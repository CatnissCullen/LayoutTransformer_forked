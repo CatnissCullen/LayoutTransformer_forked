{
 "cells": [
  {
   "cell_type": "code",
   "id": "initial_id",
   "metadata": {
    "collapsed": true,
    "ExecuteTime": {
     "end_time": "2024-11-21T12:46:14.241236Z",
     "start_time": "2024-11-21T12:46:14.060688Z"
    }
   },
   "source": [
    "%reload_ext autoreload\n",
    "%autoreload 2\n",
    "\n",
    "from loader.build_loader import build_loader_SNP\n",
    "from model.build_model import build_model\n",
    "from inference.build_inference import build_inference_SNP\n",
    "from utils import ensure_dir\n",
    "import logging, coloredlogs\n",
    "import argparse\n",
    "import yaml\n",
    "import os\n",
    "import torch\n",
    "import requests\n",
    "\n",
    "os.environ['http_proxy'] = \"http://127.0.0.1:7890\"\n",
    "os.environ['https_proxy'] = \"http://127.0.0.1:7890\"\n",
    "response = requests.get('http://www.google.com')\n",
    "print(response.status_code)\n",
    "\n",
    "# setting parser\n",
    "parser = argparse.ArgumentParser()\n",
    "parser.add_argument('--cfg_path', type=str, default='configs/')\n",
    "parser.add_argument('--checkpoint', type=str, default=None)\n",
    "parser.add_argument('--eval_only', action='store_true', default=False)\n",
    "opt = parser.parse_args(args=[])  # Avoid parsing command-line arguments\n",
    "\n",
    "opt.cfg_path = 'configs/vg_msdn/vg_msdn_seq2seq_v24.yaml'\n",
    "opt.checkpoint = './saved/vg_msdn_F_seq2seq_v24/checkpoint_50_0.16316922369277578.pth'\n",
    "opt.eval_only = True\n",
    "\n",
    "# setting config file\n",
    "with open(opt.cfg_path, 'r') as f:\n",
    "    cfg = yaml.safe_load(f)\n",
    "\n",
    "# handle dir for saving\n",
    "ensure_dir(cfg['OUTPUT']['LOG_DIR'])\n",
    "ensure_dir(cfg['TEST']['SAVE_DIR'])\n",
    "\n",
    "# setting logger\n",
    "handlers = [logging.FileHandler(os.path.join(cfg['OUTPUT']['OUTPUT_DIR'],\n",
    "                                             'output_eval.log'), mode='w'), logging.StreamHandler()]\n",
    "logging.basicConfig(handlers=handlers, level=logging.INFO)\n",
    "logger = logging.getLogger('root')\n",
    "coloredlogs.install(logger=logger, fmt='%(asctime)s [%(name)s] %(levelname)s %(message)s')\n",
    "logger.info('Setup output directory - {}.'.format(cfg['OUTPUT']['LOG_DIR']))\n",
    "\n",
    "device = torch.device(\"cuda:2\" if torch.cuda.is_available() else \"cpu\")\n",
    "\n",
    "single_data, _ = build_loader_SNP(cfg, SCENE_NM='cat', PROMPT='a cat sits on a table', CANVAS_SIZE=(224, 224))\n",
    "print(\"load data done.\")\n",
    "rel2bbox_model = build_model(cfg)  # unchanged, accord with inference checkpoint\n",
    "print(\"build model done.\")\n",
    "assert opt.checkpoint is not None, 'Please provide model ckpt for testing'\n",
    "checkpoint = torch.load(opt.checkpoint)\n",
    "rel2bbox_model.load_state_dict(checkpoint['state_dict'])\n",
    "print(\"load checkpoint done.\")\n",
    "infer_pipeline = build_inference_SNP(cfg, device)\n",
    "print(\"build inference pipeline done.\")\n",
    "infer_pipeline.run_single(cfg=cfg, model=rel2bbox_model, dataset=single_data.dataset)\n"
   ],
   "outputs": [
    {
     "ename": "ModuleNotFoundError",
     "evalue": "No module named 'model.build_model'",
     "output_type": "error",
     "traceback": [
      "\u001B[0;31m---------------------------------------------------------------------------\u001B[0m",
      "\u001B[0;31mModuleNotFoundError\u001B[0m                       Traceback (most recent call last)",
      "Cell \u001B[0;32mIn[11], line 5\u001B[0m\n\u001B[1;32m      2\u001B[0m get_ipython()\u001B[38;5;241m.\u001B[39mrun_line_magic(\u001B[38;5;124m'\u001B[39m\u001B[38;5;124mautoreload\u001B[39m\u001B[38;5;124m'\u001B[39m, \u001B[38;5;124m'\u001B[39m\u001B[38;5;124m2\u001B[39m\u001B[38;5;124m'\u001B[39m)\n\u001B[1;32m      4\u001B[0m \u001B[38;5;28;01mfrom\u001B[39;00m \u001B[38;5;21;01mloader\u001B[39;00m\u001B[38;5;21;01m.\u001B[39;00m\u001B[38;5;21;01mbuild_loader\u001B[39;00m \u001B[38;5;28;01mimport\u001B[39;00m build_loader_SNP\n\u001B[0;32m----> 5\u001B[0m \u001B[38;5;28;01mfrom\u001B[39;00m \u001B[38;5;21;01mmodel\u001B[39;00m\u001B[38;5;21;01m.\u001B[39;00m\u001B[38;5;21;01mbuild_model\u001B[39;00m \u001B[38;5;28;01mimport\u001B[39;00m build_model\n\u001B[1;32m      6\u001B[0m \u001B[38;5;28;01mfrom\u001B[39;00m \u001B[38;5;21;01minference\u001B[39;00m\u001B[38;5;21;01m.\u001B[39;00m\u001B[38;5;21;01mbuild_inference\u001B[39;00m \u001B[38;5;28;01mimport\u001B[39;00m build_inference_SNP\n\u001B[1;32m      7\u001B[0m \u001B[38;5;28;01mfrom\u001B[39;00m \u001B[38;5;21;01mutils\u001B[39;00m \u001B[38;5;28;01mimport\u001B[39;00m ensure_dir\n",
      "\u001B[0;31mModuleNotFoundError\u001B[0m: No module named 'model.build_model'"
     ]
    }
   ],
   "execution_count": 11
  }
 ],
 "metadata": {
  "kernelspec": {
   "display_name": "Python 3",
   "language": "python",
   "name": "python3"
  },
  "language_info": {
   "codemirror_mode": {
    "name": "ipython",
    "version": 2
   },
   "file_extension": ".py",
   "mimetype": "text/x-python",
   "name": "python",
   "nbconvert_exporter": "python",
   "pygments_lexer": "ipython2",
   "version": "2.7.6"
  }
 },
 "nbformat": 4,
 "nbformat_minor": 5
}
