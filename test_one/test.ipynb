{
 "cells": [
  {
   "metadata": {},
   "cell_type": "code",
   "outputs": [
    {
     "name": "stdout",
     "output_type": "stream",
     "text": [
      "200\n",
      "{\n",
      "  \"objects\": [\n",
      "    {\n",
      "      \"id\": 0,\n",
      "      \"name\": \"cat\", \n",
      "      \"attributes\": [\"sitting\"]\n",
      "    },\n",
      "    {\n",
      "      \"id\": 1,\n",
      "      \"name\": \"table\", \n",
      "      \"attributes\": []\n",
      "    }\n",
      "  ], \n",
      "  \"relationships\": [\n",
      "    {\n",
      "      \"sub_id\": 0, \n",
      "      \"predicate\": \"on\", \n",
      "      \"obj_id\": 1 \n",
      "    }\n",
      "  ]\n",
      "}\n"
     ]
    }
   ],
   "execution_count": 16,
   "source": [
    "import json\n",
    "%reload_ext autoreload\n",
    "%autoreload 2\n",
    "\n",
    "import os\n",
    "import requests\n",
    "\n",
    "os.environ['http_proxy'] = \"http://127.0.0.1:7890\"\n",
    "os.environ['https_proxy'] = \"http://127.0.0.1:7890\"\n",
    "response = requests.get('http://www.google.com')\n",
    "print(response.status_code)\n",
    "\n",
    "from loader.VGmsdnDataset import gen_scene_graph\n",
    "\n",
    "sentence = \"a cat sitting on a table\"\n",
    "sg = gen_scene_graph(sentence)\n",
    "print(sg)\n",
    "\n",
    "json_str = json.loads(sg)\n",
    "with open('./test_one/SG_single.json', 'w') as file:\n",
    "    json.dump(json_str, file, indent=4)"
   ],
   "id": "initial_id"
  }
 ],
 "metadata": {
  "kernelspec": {
   "display_name": "Python 3",
   "language": "python",
   "name": "python3"
  },
  "language_info": {
   "codemirror_mode": {
    "name": "ipython",
    "version": 2
   },
   "file_extension": ".py",
   "mimetype": "text/x-python",
   "name": "python",
   "nbconvert_exporter": "python",
   "pygments_lexer": "ipython2",
   "version": "2.7.6"
  }
 },
 "nbformat": 4,
 "nbformat_minor": 5
}
